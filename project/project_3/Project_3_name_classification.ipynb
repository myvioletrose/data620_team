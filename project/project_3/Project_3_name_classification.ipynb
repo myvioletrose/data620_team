{
 "cells": [
  {
   "cell_type": "markdown",
   "metadata": {},
   "source": [
    "# Project 3 - Name Classification\n",
    "\n",
    "Jimmy Ng & Corey Arnouts\n",
    "\n",
    "Oct 23, 2020"
   ]
  },
  {
   "cell_type": "markdown",
   "metadata": {},
   "source": [
    "## Set up"
   ]
  },
  {
   "cell_type": "code",
   "execution_count": 1,
   "metadata": {},
   "outputs": [
    {
     "name": "stderr",
     "output_type": "stream",
     "text": [
      "[nltk_data] Downloading package names to\n",
      "[nltk_data]     C:\\Users\\myvio\\AppData\\Roaming\\nltk_data...\n",
      "[nltk_data]   Package names is already up-to-date!\n"
     ]
    }
   ],
   "source": [
    "import nltk\n",
    "nltk.download('names')\n",
    "from nltk.corpus import names\n",
    "import random"
   ]
  },
  {
   "cell_type": "markdown",
   "metadata": {},
   "source": [
    "## Data prep"
   ]
  },
  {
   "cell_type": "markdown",
   "metadata": {},
   "source": [
    "### Get name"
   ]
  },
  {
   "cell_type": "code",
   "execution_count": 2,
   "metadata": {},
   "outputs": [],
   "source": [
    "names = ([(name, \"male\") for name in names.words(\"male.txt\")] + \\\n",
    "         [(name, \"female\") for name in names.words(\"female.txt\")])"
   ]
  },
  {
   "cell_type": "code",
   "execution_count": 3,
   "metadata": {},
   "outputs": [],
   "source": [
    "random.seed(1234)\n",
    "random.shuffle(names)"
   ]
  },
  {
   "cell_type": "code",
   "execution_count": 4,
   "metadata": {},
   "outputs": [
    {
     "name": "stdout",
     "output_type": "stream",
     "text": [
      "There are 5001 female names.\n",
      "There are 2943 male names.\n"
     ]
    }
   ],
   "source": [
    "print('There are ' + str(len([g for (n, g) in names if g == 'female'])) + ' female names.')\n",
    "print('There are ' + str(len([g for (n, g) in names if g == 'male'])) + ' male names.')"
   ]
  },
  {
   "cell_type": "markdown",
   "metadata": {},
   "source": [
    "### Split data set into three"
   ]
  },
  {
   "cell_type": "code",
   "execution_count": 5,
   "metadata": {},
   "outputs": [],
   "source": [
    "test, dev_test, training = names[:500], names[500:1000], names[1000:]"
   ]
  },
  {
   "cell_type": "code",
   "execution_count": 6,
   "metadata": {},
   "outputs": [
    {
     "name": "stdout",
     "output_type": "stream",
     "text": [
      "There are 4382 female names in the train set.\n",
      "There are 2562 male names in the train set.\n",
      "\n",
      "\n",
      "There are 319 female names in the dev test.\n",
      "There are 181 male names in the dev test.\n",
      "\n",
      "\n",
      "There are 300 female names in the test set.\n",
      "There are 200 male names in the test set.\n"
     ]
    }
   ],
   "source": [
    "print('There are ' + str(len([g for (n, g) in training if g == 'female'])) + ' female names in the train set.')\n",
    "print('There are ' + str(len([g for (n, g) in training if g == 'male'])) + ' male names in the train set.')\n",
    "print(\"\\n\")\n",
    "print('There are ' + str(len([g for (n, g) in dev_test if g == 'female'])) + ' female names in the dev test.')\n",
    "print('There are ' + str(len([g for (n, g) in dev_test if g == 'male'])) + ' male names in the dev test.')\n",
    "print(\"\\n\")\n",
    "print('There are ' + str(len([g for (n, g) in test if g == 'female'])) + ' female names in the test set.')\n",
    "print('There are ' + str(len([g for (n, g) in test if g == 'male'])) + ' male names in the test set.')"
   ]
  },
  {
   "cell_type": "markdown",
   "metadata": {},
   "source": [
    "## Feature Engineering"
   ]
  },
  {
   "cell_type": "markdown",
   "metadata": {},
   "source": [
    "### Error analysis\n",
    "\n",
    "Here's a function modified from the example in the textbook. We can use it to print out the error/discrepancy of our prediction and true label."
   ]
  },
  {
   "cell_type": "code",
   "execution_count": 7,
   "metadata": {},
   "outputs": [],
   "source": [
    "def error_analysis(FEATURES):        \n",
    "    errors = [] \n",
    "    for (name, tag) in dev_test:\n",
    "        guess = classifier.classify(FEATURES(name))\n",
    "        if guess != tag:\n",
    "            errors.append((tag, guess, name))\n",
    "    print(\"Number of Errors: \", len(errors))    \n",
    "    for (tag, guess, name) in sorted(errors):\n",
    "        print('correct = {:<8} guess = {:<8s} name = {:<30}'.format(tag, guess, name))"
   ]
  },
  {
   "cell_type": "markdown",
   "metadata": {},
   "source": [
    "### Gender Feature 1\n",
    "Here's a function from the textbook. We can use it to serve as a benchmark for improvement."
   ]
  },
  {
   "cell_type": "code",
   "execution_count": 8,
   "metadata": {},
   "outputs": [],
   "source": [
    "def features1(name):\n",
    "    features = {}\n",
    "    features[\"first_letter\"] = name[0].lower()\n",
    "    features[\"last_letter\"] = name[-1].lower()\n",
    "    for letter in \"abcdefghijklmnopqrstuvwxyz\":\n",
    "        features[\"count({})\".format(letter)] = name.lower().count(letter)\n",
    "        features[\"has({})\".format(letter)] = (letter in name.lower())\n",
    "    return features"
   ]
  },
  {
   "cell_type": "code",
   "execution_count": 9,
   "metadata": {},
   "outputs": [
    {
     "name": "stdout",
     "output_type": "stream",
     "text": [
      "0.758\n"
     ]
    }
   ],
   "source": [
    "train_set = [(features1(n), gender) for (n, gender) in training]\n",
    "classifier = nltk.NaiveBayesClassifier.train(train_set)\n",
    "\n",
    "devtest_set = [(features1(n), gender) for (n, gender) in dev_test]\n",
    "print(nltk.classify.accuracy(classifier, devtest_set))"
   ]
  },
  {
   "cell_type": "code",
   "execution_count": 10,
   "metadata": {
    "scrolled": true
   },
   "outputs": [
    {
     "name": "stdout",
     "output_type": "stream",
     "text": [
      "Number of Errors:  121\n",
      "correct = female   guess = male     name = Ardyth                        \n",
      "correct = female   guess = male     name = Audry                         \n",
      "correct = female   guess = male     name = Bird                          \n",
      "correct = female   guess = male     name = Bridget                       \n",
      "correct = female   guess = male     name = Brooke                        \n",
      "correct = female   guess = male     name = Brynn                         \n",
      "correct = female   guess = male     name = Charis                        \n",
      "correct = female   guess = male     name = Chery                         \n",
      "correct = female   guess = male     name = Christin                      \n",
      "correct = female   guess = male     name = Corry                         \n",
      "correct = female   guess = male     name = Darb                          \n",
      "correct = female   guess = male     name = Dorolice                      \n",
      "correct = female   guess = male     name = Fawne                         \n",
      "correct = female   guess = male     name = Gennifer                      \n",
      "correct = female   guess = male     name = Gretchen                      \n",
      "correct = female   guess = male     name = Guenevere                     \n",
      "correct = female   guess = male     name = Heath                         \n",
      "correct = female   guess = male     name = Ingaberg                      \n",
      "correct = female   guess = male     name = Ingrid                        \n",
      "correct = female   guess = male     name = Justin                        \n",
      "correct = female   guess = male     name = Kaster                        \n",
      "correct = female   guess = male     name = Kim                           \n",
      "correct = female   guess = male     name = Kore                          \n",
      "correct = female   guess = male     name = Leanor                        \n",
      "correct = female   guess = male     name = Mag                           \n",
      "correct = female   guess = male     name = Mair                          \n",
      "correct = female   guess = male     name = Marget                        \n",
      "correct = female   guess = male     name = Margret                       \n",
      "correct = female   guess = male     name = Marys                         \n",
      "correct = female   guess = male     name = Mikako                        \n",
      "correct = female   guess = male     name = Modesty                       \n",
      "correct = female   guess = male     name = Myrah                         \n",
      "correct = female   guess = male     name = Nert                          \n",
      "correct = female   guess = male     name = Olly                          \n",
      "correct = female   guess = male     name = Pearl                         \n",
      "correct = female   guess = male     name = Pen                           \n",
      "correct = female   guess = male     name = Persis                        \n",
      "correct = female   guess = male     name = Pet                           \n",
      "correct = female   guess = male     name = Rhiamon                       \n",
      "correct = female   guess = male     name = Rhodie                        \n",
      "correct = female   guess = male     name = Rivkah                        \n",
      "correct = female   guess = male     name = Roby                          \n",
      "correct = female   guess = male     name = Ros                           \n",
      "correct = female   guess = male     name = Rosaleen                      \n",
      "correct = female   guess = male     name = Rosalynd                      \n",
      "correct = female   guess = male     name = Rosamond                      \n",
      "correct = female   guess = male     name = Rosie                         \n",
      "correct = female   guess = male     name = Shawn                         \n",
      "correct = female   guess = male     name = Sinead                        \n",
      "correct = female   guess = male     name = Tatum                         \n",
      "correct = female   guess = male     name = Thomasin                      \n",
      "correct = female   guess = male     name = Tobi                          \n",
      "correct = female   guess = male     name = Tomi                          \n",
      "correct = female   guess = male     name = Tommy                         \n",
      "correct = female   guess = male     name = Tony                          \n",
      "correct = female   guess = male     name = Trixy                         \n",
      "correct = female   guess = male     name = Winne                         \n",
      "correct = female   guess = male     name = Wynny                         \n",
      "correct = female   guess = male     name = Yehudit                       \n",
      "correct = male     guess = female   name = Adrian                        \n",
      "correct = male     guess = female   name = Alaa                          \n",
      "correct = male     guess = female   name = Alan                          \n",
      "correct = male     guess = female   name = Aldrich                       \n",
      "correct = male     guess = female   name = Alister                       \n",
      "correct = male     guess = female   name = Allah                         \n",
      "correct = male     guess = female   name = Andre                         \n",
      "correct = male     guess = female   name = Archie                        \n",
      "correct = male     guess = female   name = Barnabe                       \n",
      "correct = male     guess = female   name = Barrie                        \n",
      "correct = male     guess = female   name = Benji                         \n",
      "correct = male     guess = female   name = Bennett                       \n",
      "correct = male     guess = female   name = Constantine                   \n",
      "correct = male     guess = female   name = Devin                         \n",
      "correct = male     guess = female   name = Dmitri                        \n",
      "correct = male     guess = female   name = Earl                          \n",
      "correct = male     guess = female   name = Eddie                         \n",
      "correct = male     guess = female   name = Ely                           \n",
      "correct = male     guess = female   name = Emmery                        \n",
      "correct = male     guess = female   name = Ervin                         \n",
      "correct = male     guess = female   name = Frankie                       \n",
      "correct = male     guess = female   name = Graehme                       \n",
      "correct = male     guess = female   name = Granville                     \n",
      "correct = male     guess = female   name = Hamlin                        \n",
      "correct = male     guess = female   name = Hymie                         \n",
      "correct = male     guess = female   name = Ian                           \n",
      "correct = male     guess = female   name = Iggie                         \n",
      "correct = male     guess = female   name = Ivan                          \n",
      "correct = male     guess = female   name = Jedediah                      \n",
      "correct = male     guess = female   name = Jeffie                        \n",
      "correct = male     guess = female   name = Juan                          \n",
      "correct = male     guess = female   name = Juanita                       \n",
      "correct = male     guess = female   name = Kaiser                        \n",
      "correct = male     guess = female   name = Kenyon                        \n",
      "correct = male     guess = female   name = Lawrence                      \n",
      "correct = male     guess = female   name = Lefty                         \n",
      "correct = male     guess = female   name = Maurie                        \n",
      "correct = male     guess = female   name = Maximilien                    \n",
      "correct = male     guess = female   name = Merrel                        \n",
      "correct = male     guess = female   name = Micheil                       \n",
      "correct = male     guess = female   name = Michel                        \n",
      "correct = male     guess = female   name = Mickey                        \n",
      "correct = male     guess = female   name = Nate                          \n",
      "correct = male     guess = female   name = Nathan                        \n",
      "correct = male     guess = female   name = Nealson                       \n",
      "correct = male     guess = female   name = Neville                       \n",
      "correct = male     guess = female   name = Nichole                       \n",
      "correct = male     guess = female   name = Pearce                        \n",
      "correct = male     guess = female   name = Pierre                        \n",
      "correct = male     guess = female   name = Radcliffe                     \n",
      "correct = male     guess = female   name = Ravi                          \n",
      "correct = male     guess = female   name = Rickey                        \n",
      "correct = male     guess = female   name = Ritchie                       \n",
      "correct = male     guess = female   name = Si                            \n",
      "correct = male     guess = female   name = Silas                         \n",
      "correct = male     guess = female   name = Spense                        \n",
      "correct = male     guess = female   name = Terrance                      \n",
      "correct = male     guess = female   name = Vasily                        \n",
      "correct = male     guess = female   name = Vijay                         \n",
      "correct = male     guess = female   name = Virgie                        \n",
      "correct = male     guess = female   name = Yanaton                       \n",
      "correct = male     guess = female   name = Yance                         \n"
     ]
    }
   ],
   "source": [
    "error_analysis(features1)"
   ]
  },
  {
   "cell_type": "markdown",
   "metadata": {},
   "source": [
    "### Gender Feature 2\n",
    "For our second feature extractor, we will use the first one to three, and last one to three letters. "
   ]
  },
  {
   "cell_type": "code",
   "execution_count": 11,
   "metadata": {},
   "outputs": [],
   "source": [
    "def features2(name):\n",
    "    features = {}\n",
    "    features[\"firstletter\"] = name[0].lower()\n",
    "    features[\"lastletter\"] = name[-1].lower() \n",
    "    features[\"prefix2\"] = name[:2].lower()\n",
    "    features[\"prefix3\"] = name[:3].lower()\n",
    "    features[\"suffix2\"] = name[-2:].lower()\n",
    "    features[\"suffix3\"] = name[-3:].lower()    \n",
    "    return features"
   ]
  },
  {
   "cell_type": "code",
   "execution_count": 12,
   "metadata": {},
   "outputs": [
    {
     "name": "stdout",
     "output_type": "stream",
     "text": [
      "0.832\n"
     ]
    }
   ],
   "source": [
    "train_set2 = [(features2(n), gender) for (n, gender) in training]\n",
    "classifier2 = nltk.NaiveBayesClassifier.train(train_set2)\n",
    "\n",
    "devtest_set2 = [(features2(n), gender) for (n, gender) in dev_test]\n",
    "print(nltk.classify.accuracy(classifier2, devtest_set2))"
   ]
  },
  {
   "cell_type": "code",
   "execution_count": 13,
   "metadata": {},
   "outputs": [
    {
     "name": "stdout",
     "output_type": "stream",
     "text": [
      "Number of Errors:  181\n",
      "correct = male     guess = female   name = Adolphe                       \n",
      "correct = male     guess = female   name = Adrian                        \n",
      "correct = male     guess = female   name = Agustin                       \n",
      "correct = male     guess = female   name = Ahmad                         \n",
      "correct = male     guess = female   name = Alaa                          \n",
      "correct = male     guess = female   name = Alan                          \n",
      "correct = male     guess = female   name = Aldrich                       \n",
      "correct = male     guess = female   name = Alic                          \n",
      "correct = male     guess = female   name = Alister                       \n",
      "correct = male     guess = female   name = Allah                         \n",
      "correct = male     guess = female   name = Andre                         \n",
      "correct = male     guess = female   name = Archie                        \n",
      "correct = male     guess = female   name = Armstrong                     \n",
      "correct = male     guess = female   name = Artur                         \n",
      "correct = male     guess = female   name = Aubert                        \n",
      "correct = male     guess = female   name = Baird                         \n",
      "correct = male     guess = female   name = Barnabe                       \n",
      "correct = male     guess = female   name = Barrie                        \n",
      "correct = male     guess = female   name = Bear                          \n",
      "correct = male     guess = female   name = Ben                           \n",
      "correct = male     guess = female   name = Benji                         \n",
      "correct = male     guess = female   name = Bennett                       \n",
      "correct = male     guess = female   name = Berk                          \n",
      "correct = male     guess = female   name = Bertram                       \n",
      "correct = male     guess = female   name = Bo                            \n",
      "correct = male     guess = female   name = Boyd                          \n",
      "correct = male     guess = female   name = Brooks                        \n",
      "correct = male     guess = female   name = Casper                        \n",
      "correct = male     guess = female   name = Chris                         \n",
      "correct = male     guess = female   name = Christ                        \n",
      "correct = male     guess = female   name = Christiano                    \n",
      "correct = male     guess = female   name = Constantine                   \n",
      "correct = male     guess = female   name = Cornellis                     \n",
      "correct = male     guess = female   name = Curtis                        \n",
      "correct = male     guess = female   name = Darius                        \n",
      "correct = male     guess = female   name = Derrick                       \n",
      "correct = male     guess = female   name = Devin                         \n",
      "correct = male     guess = female   name = Dewey                         \n",
      "correct = male     guess = female   name = Dexter                        \n",
      "correct = male     guess = female   name = Dion                          \n",
      "correct = male     guess = female   name = Dmitri                        \n",
      "correct = male     guess = female   name = Duffy                         \n",
      "correct = male     guess = female   name = Dunstan                       \n",
      "correct = male     guess = female   name = Durante                       \n",
      "correct = male     guess = female   name = Earl                          \n",
      "correct = male     guess = female   name = Eddie                         \n",
      "correct = male     guess = female   name = Eduard                        \n",
      "correct = male     guess = female   name = Ely                           \n",
      "correct = male     guess = female   name = Emmery                        \n",
      "correct = male     guess = female   name = Emmett                        \n",
      "correct = male     guess = female   name = Ervin                         \n",
      "correct = male     guess = female   name = Ethelbert                     \n",
      "correct = male     guess = female   name = Flipper                       \n",
      "correct = male     guess = female   name = Ford                          \n",
      "correct = male     guess = female   name = Fowler                        \n",
      "correct = male     guess = female   name = Frankie                       \n",
      "correct = male     guess = female   name = Fredric                       \n",
      "correct = male     guess = female   name = Friedric                      \n",
      "correct = male     guess = female   name = Gershom                       \n",
      "correct = male     guess = female   name = Graehme                       \n",
      "correct = male     guess = female   name = Granville                     \n",
      "correct = male     guess = female   name = Greggory                      \n",
      "correct = male     guess = female   name = Hal                           \n",
      "correct = male     guess = female   name = Hamlet                        \n",
      "correct = male     guess = female   name = Hamlin                        \n",
      "correct = male     guess = female   name = Hart                          \n",
      "correct = male     guess = female   name = Hendrik                       \n",
      "correct = male     guess = female   name = Henrik                        \n",
      "correct = male     guess = female   name = Hermann                       \n",
      "correct = male     guess = female   name = Hersh                         \n",
      "correct = male     guess = female   name = Hew                           \n",
      "correct = male     guess = female   name = Higgins                       \n",
      "correct = male     guess = female   name = Homer                         \n",
      "correct = male     guess = female   name = Humbert                       \n",
      "correct = male     guess = female   name = Hunt                          \n",
      "correct = male     guess = female   name = Hymie                         \n",
      "correct = male     guess = female   name = Ian                           \n",
      "correct = male     guess = female   name = Iggie                         \n",
      "correct = male     guess = female   name = Ignazio                       \n",
      "correct = male     guess = female   name = Irvin                         \n",
      "correct = male     guess = female   name = Ivan                          \n",
      "correct = male     guess = female   name = Jedediah                      \n",
      "correct = male     guess = female   name = Jeffie                        \n",
      "correct = male     guess = female   name = Jeromy                        \n",
      "correct = male     guess = female   name = Jervis                        \n",
      "correct = male     guess = female   name = Joachim                       \n",
      "correct = male     guess = female   name = Juan                          \n",
      "correct = male     guess = female   name = Juanita                       \n",
      "correct = male     guess = female   name = Kaiser                        \n",
      "correct = male     guess = female   name = Kenyon                        \n",
      "correct = male     guess = female   name = Lawrence                      \n",
      "correct = male     guess = female   name = Lawton                        \n",
      "correct = male     guess = female   name = Lefty                         \n",
      "correct = male     guess = female   name = Mahesh                        \n",
      "correct = male     guess = female   name = Marius                        \n",
      "correct = male     guess = female   name = Mark                          \n",
      "correct = male     guess = female   name = Maurie                        \n",
      "correct = male     guess = female   name = Maurits                       \n",
      "correct = male     guess = female   name = Maximilien                    \n",
      "correct = male     guess = female   name = Merrel                        \n",
      "correct = male     guess = female   name = Micheil                       \n",
      "correct = male     guess = female   name = Michel                        \n",
      "correct = male     guess = female   name = Mickey                        \n",
      "correct = male     guess = female   name = Mitch                         \n",
      "correct = male     guess = female   name = Moe                           \n",
      "correct = male     guess = female   name = Moishe                        \n",
      "correct = male     guess = female   name = Morton                        \n",
      "correct = male     guess = female   name = Nate                          \n",
      "correct = male     guess = female   name = Nathan                        \n",
      "correct = male     guess = female   name = Nealson                       \n",
      "correct = male     guess = female   name = Ned                           \n",
      "correct = male     guess = female   name = Neville                       \n",
      "correct = male     guess = female   name = Nichole                       \n",
      "correct = male     guess = female   name = Norbert                       \n",
      "correct = male     guess = female   name = Obadiah                       \n",
      "correct = male     guess = female   name = Omar                          \n",
      "correct = male     guess = female   name = Orson                         \n",
      "correct = male     guess = female   name = Osborne                       \n",
      "correct = male     guess = female   name = Oswell                        \n",
      "correct = male     guess = female   name = Owen                          \n",
      "correct = male     guess = female   name = Paton                         \n",
      "correct = male     guess = female   name = Paulo                         \n",
      "correct = male     guess = female   name = Pearce                        \n",
      "correct = male     guess = female   name = Pembroke                      \n",
      "correct = male     guess = female   name = Penrod                        \n",
      "correct = male     guess = female   name = Pete                          \n",
      "correct = male     guess = female   name = Phineas                       \n",
      "correct = male     guess = female   name = Pierre                        \n",
      "correct = male     guess = female   name = Pincas                        \n",
      "correct = male     guess = female   name = Prasun                        \n",
      "correct = male     guess = female   name = Radcliffe                     \n",
      "correct = male     guess = female   name = Randolph                      \n",
      "correct = male     guess = female   name = Ravi                          \n",
      "correct = male     guess = female   name = Rawley                        \n",
      "correct = male     guess = female   name = Rayner                        \n",
      "correct = male     guess = female   name = Redford                       \n",
      "correct = male     guess = female   name = Rhett                         \n",
      "correct = male     guess = female   name = Rickey                        \n",
      "correct = male     guess = female   name = Rik                           \n",
      "correct = male     guess = female   name = Ritchie                       \n",
      "correct = male     guess = female   name = Robb                          \n",
      "correct = male     guess = female   name = Roderic                       \n",
      "correct = male     guess = female   name = Rollin                        \n",
      "correct = male     guess = female   name = Rudy                          \n",
      "correct = male     guess = female   name = Salomo                        \n",
      "correct = male     guess = female   name = Sanderson                     \n",
      "correct = male     guess = female   name = Sargent                       \n",
      "correct = male     guess = female   name = Seymour                       \n",
      "correct = male     guess = female   name = Shepard                       \n",
      "correct = male     guess = female   name = Shepperd                      \n",
      "correct = male     guess = female   name = Si                            \n",
      "correct = male     guess = female   name = Silas                         \n",
      "correct = male     guess = female   name = Simeon                        \n",
      "correct = male     guess = female   name = Skipp                         \n",
      "correct = male     guess = female   name = Spense                        \n",
      "correct = male     guess = female   name = Spiro                         \n",
      "correct = male     guess = female   name = Stanford                      \n",
      "correct = male     guess = female   name = Terrance                      \n",
      "correct = male     guess = female   name = Thaddius                      \n",
      "correct = male     guess = female   name = Thor                          \n",
      "correct = male     guess = female   name = Thurston                      \n",
      "correct = male     guess = female   name = Tracy                         \n",
      "correct = male     guess = female   name = Trip                          \n",
      "correct = male     guess = female   name = Ty                            \n",
      "correct = male     guess = female   name = Urbano                        \n",
      "correct = male     guess = female   name = Vasily                        \n",
      "correct = male     guess = female   name = Vaughan                       \n",
      "correct = male     guess = female   name = Vaughn                        \n",
      "correct = male     guess = female   name = Vijay                         \n",
      "correct = male     guess = female   name = Virgie                        \n",
      "correct = male     guess = female   name = Ward                          \n",
      "correct = male     guess = female   name = Washington                    \n",
      "correct = male     guess = female   name = Weider                        \n",
      "correct = male     guess = female   name = Winny                         \n",
      "correct = male     guess = female   name = Woochang                      \n",
      "correct = male     guess = female   name = Wright                        \n",
      "correct = male     guess = female   name = Wye                           \n",
      "correct = male     guess = female   name = Xymenes                       \n",
      "correct = male     guess = female   name = Yanaton                       \n",
      "correct = male     guess = female   name = Yance                         \n",
      "correct = male     guess = female   name = Yank                          \n"
     ]
    }
   ],
   "source": [
    "error_analysis(features2)"
   ]
  },
  {
   "cell_type": "markdown",
   "metadata": {},
   "source": [
    "Although the accuracy seems to be way up by more than 7%, this feature extractor is actually worse than the benchmark because it classifies every name as female. "
   ]
  },
  {
   "cell_type": "markdown",
   "metadata": {},
   "source": [
    "### Gender Feature 3\n",
    "Let's modify the above feature extractor by counting letters, vowels and checking whether the first and last letters are vowel."
   ]
  },
  {
   "cell_type": "code",
   "execution_count": 14,
   "metadata": {},
   "outputs": [],
   "source": [
    "def features3(name):\n",
    "    features = {}              \n",
    "    features[\"count_letters\"] = len(name)\n",
    "    features[\"count_vowel\"] = len([v for v in name if v in 'aeiou'])\n",
    "    features[\"firstletter_is_vowel\"] = name[0].lower() in 'aeiou'\n",
    "    features[\"lastletter_is_vowel\"] = name[-1].lower() in 'aeiou'    \n",
    "    return features"
   ]
  },
  {
   "cell_type": "code",
   "execution_count": 15,
   "metadata": {},
   "outputs": [
    {
     "name": "stdout",
     "output_type": "stream",
     "text": [
      "0.726\n"
     ]
    }
   ],
   "source": [
    "train_set3 = [(features3(n), gender) for (n, gender) in training]\n",
    "classifier3 = nltk.NaiveBayesClassifier.train(train_set3)\n",
    "\n",
    "devtest_set3 = [(features3(n), gender) for (n, gender) in dev_test]\n",
    "print(nltk.classify.accuracy(classifier3, devtest_set3))"
   ]
  },
  {
   "cell_type": "code",
   "execution_count": 16,
   "metadata": {},
   "outputs": [
    {
     "name": "stdout",
     "output_type": "stream",
     "text": [
      "Number of Errors:  181\n",
      "correct = male     guess = female   name = Adolphe                       \n",
      "correct = male     guess = female   name = Adrian                        \n",
      "correct = male     guess = female   name = Agustin                       \n",
      "correct = male     guess = female   name = Ahmad                         \n",
      "correct = male     guess = female   name = Alaa                          \n",
      "correct = male     guess = female   name = Alan                          \n",
      "correct = male     guess = female   name = Aldrich                       \n",
      "correct = male     guess = female   name = Alic                          \n",
      "correct = male     guess = female   name = Alister                       \n",
      "correct = male     guess = female   name = Allah                         \n",
      "correct = male     guess = female   name = Andre                         \n",
      "correct = male     guess = female   name = Archie                        \n",
      "correct = male     guess = female   name = Armstrong                     \n",
      "correct = male     guess = female   name = Artur                         \n",
      "correct = male     guess = female   name = Aubert                        \n",
      "correct = male     guess = female   name = Baird                         \n",
      "correct = male     guess = female   name = Barnabe                       \n",
      "correct = male     guess = female   name = Barrie                        \n",
      "correct = male     guess = female   name = Bear                          \n",
      "correct = male     guess = female   name = Ben                           \n",
      "correct = male     guess = female   name = Benji                         \n",
      "correct = male     guess = female   name = Bennett                       \n",
      "correct = male     guess = female   name = Berk                          \n",
      "correct = male     guess = female   name = Bertram                       \n",
      "correct = male     guess = female   name = Bo                            \n",
      "correct = male     guess = female   name = Boyd                          \n",
      "correct = male     guess = female   name = Brooks                        \n",
      "correct = male     guess = female   name = Casper                        \n",
      "correct = male     guess = female   name = Chris                         \n",
      "correct = male     guess = female   name = Christ                        \n",
      "correct = male     guess = female   name = Christiano                    \n",
      "correct = male     guess = female   name = Constantine                   \n",
      "correct = male     guess = female   name = Cornellis                     \n",
      "correct = male     guess = female   name = Curtis                        \n",
      "correct = male     guess = female   name = Darius                        \n",
      "correct = male     guess = female   name = Derrick                       \n",
      "correct = male     guess = female   name = Devin                         \n",
      "correct = male     guess = female   name = Dewey                         \n",
      "correct = male     guess = female   name = Dexter                        \n",
      "correct = male     guess = female   name = Dion                          \n",
      "correct = male     guess = female   name = Dmitri                        \n",
      "correct = male     guess = female   name = Duffy                         \n",
      "correct = male     guess = female   name = Dunstan                       \n",
      "correct = male     guess = female   name = Durante                       \n",
      "correct = male     guess = female   name = Earl                          \n",
      "correct = male     guess = female   name = Eddie                         \n",
      "correct = male     guess = female   name = Eduard                        \n",
      "correct = male     guess = female   name = Ely                           \n",
      "correct = male     guess = female   name = Emmery                        \n",
      "correct = male     guess = female   name = Emmett                        \n",
      "correct = male     guess = female   name = Ervin                         \n",
      "correct = male     guess = female   name = Ethelbert                     \n",
      "correct = male     guess = female   name = Flipper                       \n",
      "correct = male     guess = female   name = Ford                          \n",
      "correct = male     guess = female   name = Fowler                        \n",
      "correct = male     guess = female   name = Frankie                       \n",
      "correct = male     guess = female   name = Fredric                       \n",
      "correct = male     guess = female   name = Friedric                      \n",
      "correct = male     guess = female   name = Gershom                       \n",
      "correct = male     guess = female   name = Graehme                       \n",
      "correct = male     guess = female   name = Granville                     \n",
      "correct = male     guess = female   name = Greggory                      \n",
      "correct = male     guess = female   name = Hal                           \n",
      "correct = male     guess = female   name = Hamlet                        \n",
      "correct = male     guess = female   name = Hamlin                        \n",
      "correct = male     guess = female   name = Hart                          \n",
      "correct = male     guess = female   name = Hendrik                       \n",
      "correct = male     guess = female   name = Henrik                        \n",
      "correct = male     guess = female   name = Hermann                       \n",
      "correct = male     guess = female   name = Hersh                         \n",
      "correct = male     guess = female   name = Hew                           \n",
      "correct = male     guess = female   name = Higgins                       \n",
      "correct = male     guess = female   name = Homer                         \n",
      "correct = male     guess = female   name = Humbert                       \n",
      "correct = male     guess = female   name = Hunt                          \n",
      "correct = male     guess = female   name = Hymie                         \n",
      "correct = male     guess = female   name = Ian                           \n",
      "correct = male     guess = female   name = Iggie                         \n",
      "correct = male     guess = female   name = Ignazio                       \n",
      "correct = male     guess = female   name = Irvin                         \n",
      "correct = male     guess = female   name = Ivan                          \n",
      "correct = male     guess = female   name = Jedediah                      \n",
      "correct = male     guess = female   name = Jeffie                        \n",
      "correct = male     guess = female   name = Jeromy                        \n",
      "correct = male     guess = female   name = Jervis                        \n",
      "correct = male     guess = female   name = Joachim                       \n",
      "correct = male     guess = female   name = Juan                          \n",
      "correct = male     guess = female   name = Juanita                       \n",
      "correct = male     guess = female   name = Kaiser                        \n",
      "correct = male     guess = female   name = Kenyon                        \n",
      "correct = male     guess = female   name = Lawrence                      \n",
      "correct = male     guess = female   name = Lawton                        \n",
      "correct = male     guess = female   name = Lefty                         \n",
      "correct = male     guess = female   name = Mahesh                        \n",
      "correct = male     guess = female   name = Marius                        \n",
      "correct = male     guess = female   name = Mark                          \n",
      "correct = male     guess = female   name = Maurie                        \n",
      "correct = male     guess = female   name = Maurits                       \n",
      "correct = male     guess = female   name = Maximilien                    \n",
      "correct = male     guess = female   name = Merrel                        \n",
      "correct = male     guess = female   name = Micheil                       \n",
      "correct = male     guess = female   name = Michel                        \n",
      "correct = male     guess = female   name = Mickey                        \n",
      "correct = male     guess = female   name = Mitch                         \n",
      "correct = male     guess = female   name = Moe                           \n",
      "correct = male     guess = female   name = Moishe                        \n",
      "correct = male     guess = female   name = Morton                        \n",
      "correct = male     guess = female   name = Nate                          \n",
      "correct = male     guess = female   name = Nathan                        \n",
      "correct = male     guess = female   name = Nealson                       \n",
      "correct = male     guess = female   name = Ned                           \n",
      "correct = male     guess = female   name = Neville                       \n",
      "correct = male     guess = female   name = Nichole                       \n",
      "correct = male     guess = female   name = Norbert                       \n",
      "correct = male     guess = female   name = Obadiah                       \n",
      "correct = male     guess = female   name = Omar                          \n",
      "correct = male     guess = female   name = Orson                         \n",
      "correct = male     guess = female   name = Osborne                       \n",
      "correct = male     guess = female   name = Oswell                        \n",
      "correct = male     guess = female   name = Owen                          \n",
      "correct = male     guess = female   name = Paton                         \n",
      "correct = male     guess = female   name = Paulo                         \n",
      "correct = male     guess = female   name = Pearce                        \n",
      "correct = male     guess = female   name = Pembroke                      \n",
      "correct = male     guess = female   name = Penrod                        \n",
      "correct = male     guess = female   name = Pete                          \n",
      "correct = male     guess = female   name = Phineas                       \n",
      "correct = male     guess = female   name = Pierre                        \n",
      "correct = male     guess = female   name = Pincas                        \n",
      "correct = male     guess = female   name = Prasun                        \n",
      "correct = male     guess = female   name = Radcliffe                     \n",
      "correct = male     guess = female   name = Randolph                      \n",
      "correct = male     guess = female   name = Ravi                          \n",
      "correct = male     guess = female   name = Rawley                        \n",
      "correct = male     guess = female   name = Rayner                        \n",
      "correct = male     guess = female   name = Redford                       \n",
      "correct = male     guess = female   name = Rhett                         \n",
      "correct = male     guess = female   name = Rickey                        \n",
      "correct = male     guess = female   name = Rik                           \n",
      "correct = male     guess = female   name = Ritchie                       \n",
      "correct = male     guess = female   name = Robb                          \n",
      "correct = male     guess = female   name = Roderic                       \n",
      "correct = male     guess = female   name = Rollin                        \n",
      "correct = male     guess = female   name = Rudy                          \n",
      "correct = male     guess = female   name = Salomo                        \n",
      "correct = male     guess = female   name = Sanderson                     \n",
      "correct = male     guess = female   name = Sargent                       \n",
      "correct = male     guess = female   name = Seymour                       \n",
      "correct = male     guess = female   name = Shepard                       \n",
      "correct = male     guess = female   name = Shepperd                      \n",
      "correct = male     guess = female   name = Si                            \n",
      "correct = male     guess = female   name = Silas                         \n",
      "correct = male     guess = female   name = Simeon                        \n",
      "correct = male     guess = female   name = Skipp                         \n",
      "correct = male     guess = female   name = Spense                        \n",
      "correct = male     guess = female   name = Spiro                         \n",
      "correct = male     guess = female   name = Stanford                      \n",
      "correct = male     guess = female   name = Terrance                      \n",
      "correct = male     guess = female   name = Thaddius                      \n",
      "correct = male     guess = female   name = Thor                          \n",
      "correct = male     guess = female   name = Thurston                      \n",
      "correct = male     guess = female   name = Tracy                         \n",
      "correct = male     guess = female   name = Trip                          \n",
      "correct = male     guess = female   name = Ty                            \n",
      "correct = male     guess = female   name = Urbano                        \n",
      "correct = male     guess = female   name = Vasily                        \n",
      "correct = male     guess = female   name = Vaughan                       \n",
      "correct = male     guess = female   name = Vaughn                        \n",
      "correct = male     guess = female   name = Vijay                         \n",
      "correct = male     guess = female   name = Virgie                        \n",
      "correct = male     guess = female   name = Ward                          \n",
      "correct = male     guess = female   name = Washington                    \n",
      "correct = male     guess = female   name = Weider                        \n",
      "correct = male     guess = female   name = Winny                         \n",
      "correct = male     guess = female   name = Woochang                      \n",
      "correct = male     guess = female   name = Wright                        \n",
      "correct = male     guess = female   name = Wye                           \n",
      "correct = male     guess = female   name = Xymenes                       \n",
      "correct = male     guess = female   name = Yanaton                       \n",
      "correct = male     guess = female   name = Yance                         \n",
      "correct = male     guess = female   name = Yank                          \n"
     ]
    }
   ],
   "source": [
    "error_analysis(features3)"
   ]
  },
  {
   "cell_type": "markdown",
   "metadata": {},
   "source": [
    "The accuracy is even worse, and all names are once again classified as female. "
   ]
  },
  {
   "cell_type": "markdown",
   "metadata": {},
   "source": [
    "### Gender Feature 4\n",
    "Instead of identifying vowels, let's combine useful features from the features1, 2 and 3 and see if we can do better."
   ]
  },
  {
   "cell_type": "code",
   "execution_count": 17,
   "metadata": {},
   "outputs": [],
   "source": [
    "def features4(name):\n",
    "    features = {}              \n",
    "    features[\"first_letter\"] = name[0].lower()\n",
    "    features[\"last_letter\"] = name[-1].lower()\n",
    "    features[\"count_letters\"] = len(name)    \n",
    "    for letter in \"abcdefghijklmnopqrstuvwxyz\":\n",
    "        features[\"count({})\".format(letter)] = name.lower().count(letter)\n",
    "        features[\"has({})\".format(letter)] = (letter in name.lower())        \n",
    "    features[\"prefix2\"] = name[:2].lower()\n",
    "    features[\"prefix3\"] = name[:3].lower()\n",
    "    features[\"suffix2\"] = name[-2:].lower()\n",
    "    features[\"suffix3\"] = name[-3:].lower()        \n",
    "    return features"
   ]
  },
  {
   "cell_type": "code",
   "execution_count": 18,
   "metadata": {},
   "outputs": [
    {
     "name": "stdout",
     "output_type": "stream",
     "text": [
      "0.822\n"
     ]
    }
   ],
   "source": [
    "train_set4 = [(features4(n), gender) for (n, gender) in training]\n",
    "classifier4 = nltk.NaiveBayesClassifier.train(train_set4)\n",
    "\n",
    "devtest_set4 = [(features4(n), gender) for (n, gender) in dev_test]\n",
    "print(nltk.classify.accuracy(classifier4, devtest_set4))"
   ]
  },
  {
   "cell_type": "code",
   "execution_count": 19,
   "metadata": {},
   "outputs": [
    {
     "name": "stdout",
     "output_type": "stream",
     "text": [
      "Number of Errors:  121\n",
      "correct = female   guess = male     name = Ardyth                        \n",
      "correct = female   guess = male     name = Audry                         \n",
      "correct = female   guess = male     name = Bird                          \n",
      "correct = female   guess = male     name = Bridget                       \n",
      "correct = female   guess = male     name = Brooke                        \n",
      "correct = female   guess = male     name = Brynn                         \n",
      "correct = female   guess = male     name = Charis                        \n",
      "correct = female   guess = male     name = Chery                         \n",
      "correct = female   guess = male     name = Christin                      \n",
      "correct = female   guess = male     name = Corry                         \n",
      "correct = female   guess = male     name = Darb                          \n",
      "correct = female   guess = male     name = Dorolice                      \n",
      "correct = female   guess = male     name = Fawne                         \n",
      "correct = female   guess = male     name = Gennifer                      \n",
      "correct = female   guess = male     name = Gretchen                      \n",
      "correct = female   guess = male     name = Guenevere                     \n",
      "correct = female   guess = male     name = Heath                         \n",
      "correct = female   guess = male     name = Ingaberg                      \n",
      "correct = female   guess = male     name = Ingrid                        \n",
      "correct = female   guess = male     name = Justin                        \n",
      "correct = female   guess = male     name = Kaster                        \n",
      "correct = female   guess = male     name = Kim                           \n",
      "correct = female   guess = male     name = Kore                          \n",
      "correct = female   guess = male     name = Leanor                        \n",
      "correct = female   guess = male     name = Mag                           \n",
      "correct = female   guess = male     name = Mair                          \n",
      "correct = female   guess = male     name = Marget                        \n",
      "correct = female   guess = male     name = Margret                       \n",
      "correct = female   guess = male     name = Marys                         \n",
      "correct = female   guess = male     name = Mikako                        \n",
      "correct = female   guess = male     name = Modesty                       \n",
      "correct = female   guess = male     name = Myrah                         \n",
      "correct = female   guess = male     name = Nert                          \n",
      "correct = female   guess = male     name = Olly                          \n",
      "correct = female   guess = male     name = Pearl                         \n",
      "correct = female   guess = male     name = Pen                           \n",
      "correct = female   guess = male     name = Persis                        \n",
      "correct = female   guess = male     name = Pet                           \n",
      "correct = female   guess = male     name = Rhiamon                       \n",
      "correct = female   guess = male     name = Rhodie                        \n",
      "correct = female   guess = male     name = Rivkah                        \n",
      "correct = female   guess = male     name = Roby                          \n",
      "correct = female   guess = male     name = Ros                           \n",
      "correct = female   guess = male     name = Rosaleen                      \n",
      "correct = female   guess = male     name = Rosalynd                      \n",
      "correct = female   guess = male     name = Rosamond                      \n",
      "correct = female   guess = male     name = Rosie                         \n",
      "correct = female   guess = male     name = Shawn                         \n",
      "correct = female   guess = male     name = Sinead                        \n",
      "correct = female   guess = male     name = Tatum                         \n",
      "correct = female   guess = male     name = Thomasin                      \n",
      "correct = female   guess = male     name = Tobi                          \n",
      "correct = female   guess = male     name = Tomi                          \n",
      "correct = female   guess = male     name = Tommy                         \n",
      "correct = female   guess = male     name = Tony                          \n",
      "correct = female   guess = male     name = Trixy                         \n",
      "correct = female   guess = male     name = Winne                         \n",
      "correct = female   guess = male     name = Wynny                         \n",
      "correct = female   guess = male     name = Yehudit                       \n",
      "correct = male     guess = female   name = Adrian                        \n",
      "correct = male     guess = female   name = Alaa                          \n",
      "correct = male     guess = female   name = Alan                          \n",
      "correct = male     guess = female   name = Aldrich                       \n",
      "correct = male     guess = female   name = Alister                       \n",
      "correct = male     guess = female   name = Allah                         \n",
      "correct = male     guess = female   name = Andre                         \n",
      "correct = male     guess = female   name = Archie                        \n",
      "correct = male     guess = female   name = Barnabe                       \n",
      "correct = male     guess = female   name = Barrie                        \n",
      "correct = male     guess = female   name = Benji                         \n",
      "correct = male     guess = female   name = Bennett                       \n",
      "correct = male     guess = female   name = Constantine                   \n",
      "correct = male     guess = female   name = Devin                         \n",
      "correct = male     guess = female   name = Dmitri                        \n",
      "correct = male     guess = female   name = Earl                          \n",
      "correct = male     guess = female   name = Eddie                         \n",
      "correct = male     guess = female   name = Ely                           \n",
      "correct = male     guess = female   name = Emmery                        \n",
      "correct = male     guess = female   name = Ervin                         \n",
      "correct = male     guess = female   name = Frankie                       \n",
      "correct = male     guess = female   name = Graehme                       \n",
      "correct = male     guess = female   name = Granville                     \n",
      "correct = male     guess = female   name = Hamlin                        \n",
      "correct = male     guess = female   name = Hymie                         \n",
      "correct = male     guess = female   name = Ian                           \n",
      "correct = male     guess = female   name = Iggie                         \n",
      "correct = male     guess = female   name = Ivan                          \n",
      "correct = male     guess = female   name = Jedediah                      \n",
      "correct = male     guess = female   name = Jeffie                        \n",
      "correct = male     guess = female   name = Juan                          \n",
      "correct = male     guess = female   name = Juanita                       \n",
      "correct = male     guess = female   name = Kaiser                        \n",
      "correct = male     guess = female   name = Kenyon                        \n",
      "correct = male     guess = female   name = Lawrence                      \n",
      "correct = male     guess = female   name = Lefty                         \n",
      "correct = male     guess = female   name = Maurie                        \n",
      "correct = male     guess = female   name = Maximilien                    \n",
      "correct = male     guess = female   name = Merrel                        \n",
      "correct = male     guess = female   name = Micheil                       \n",
      "correct = male     guess = female   name = Michel                        \n",
      "correct = male     guess = female   name = Mickey                        \n",
      "correct = male     guess = female   name = Nate                          \n",
      "correct = male     guess = female   name = Nathan                        \n",
      "correct = male     guess = female   name = Nealson                       \n",
      "correct = male     guess = female   name = Neville                       \n",
      "correct = male     guess = female   name = Nichole                       \n",
      "correct = male     guess = female   name = Pearce                        \n",
      "correct = male     guess = female   name = Pierre                        \n",
      "correct = male     guess = female   name = Radcliffe                     \n",
      "correct = male     guess = female   name = Ravi                          \n",
      "correct = male     guess = female   name = Rickey                        \n",
      "correct = male     guess = female   name = Ritchie                       \n",
      "correct = male     guess = female   name = Si                            \n",
      "correct = male     guess = female   name = Silas                         \n",
      "correct = male     guess = female   name = Spense                        \n",
      "correct = male     guess = female   name = Terrance                      \n",
      "correct = male     guess = female   name = Vasily                        \n",
      "correct = male     guess = female   name = Vijay                         \n",
      "correct = male     guess = female   name = Virgie                        \n",
      "correct = male     guess = female   name = Yanaton                       \n",
      "correct = male     guess = female   name = Yance                         \n"
     ]
    }
   ],
   "source": [
    "error_analysis(features4)"
   ]
  },
  {
   "cell_type": "markdown",
   "metadata": {},
   "source": [
    "The result is much better and has the best accuracy among the 4 feature extractors that we have built. Let's apply it on our test set."
   ]
  },
  {
   "cell_type": "markdown",
   "metadata": {},
   "source": [
    "## Test set"
   ]
  },
  {
   "cell_type": "code",
   "execution_count": 20,
   "metadata": {},
   "outputs": [
    {
     "name": "stdout",
     "output_type": "stream",
     "text": [
      "0.762\n"
     ]
    }
   ],
   "source": [
    "test_set = [(features4(n), gender) for (n, gender) in test]\n",
    "print(nltk.classify.accuracy(classifier, test_set))"
   ]
  }
 ],
 "metadata": {
  "kernelspec": {
   "display_name": "Python 3",
   "language": "python",
   "name": "python3"
  },
  "language_info": {
   "codemirror_mode": {
    "name": "ipython",
    "version": 3
   },
   "file_extension": ".py",
   "mimetype": "text/x-python",
   "name": "python",
   "nbconvert_exporter": "python",
   "pygments_lexer": "ipython3",
   "version": "3.7.9"
  }
 },
 "nbformat": 4,
 "nbformat_minor": 4
}
