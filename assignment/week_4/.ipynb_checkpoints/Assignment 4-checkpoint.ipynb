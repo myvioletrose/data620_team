{
 "cells": [
  {
   "cell_type": "markdown",
   "metadata": {},
   "source": [
    "## Assignment 4: Social Network Dataset to be Analyzed"
   ]
  },
  {
   "cell_type": "markdown",
   "metadata": {},
   "source": [
    "##### Jimmy Ng & Corey Arnouts"
   ]
  },
  {
   "cell_type": "markdown",
   "metadata": {},
   "source": [
    "http://www.sociopatterns.org/datasets/high-school-dynamic-contact-networks/"
   ]
  },
  {
   "cell_type": "markdown",
   "metadata": {},
   "source": [
    "# Overview"
   ]
  },
  {
   "cell_type": "markdown",
   "metadata": {},
   "source": [
    "For this network analysis we are going to be looking at the interactions between different students at a high school,\n",
    " this data also includes categorical data about what class the interactions occurred in and what the genders of the students are. There is also data for both 2011 and 2012 so we can see how the networks changed over time as well."
   ]
  },
  {
   "cell_type": "markdown",
   "metadata": {},
   "source": [
    "## Data that we will be using"
   ]
  },
  {
   "cell_type": "markdown",
   "metadata": {},
   "source": [
    "The data below is taken from the website sociopatterns.org these datasets look at the relationships present and the interactions between students at a high school. The dataset is loaded below. Before bringing in some of the text files, some manual data cleaning already occurred, e.g. there was extra parenthesis marks that were causing errors with the tab delimited format, so I had to use sublime text to remove all of these parenthesis. The attributes datasets are avaliable directly from the sociopatterns website."
   ]
  },
  {
   "cell_type": "code",
   "execution_count": 1,
   "metadata": {},
   "outputs": [
    {
     "name": "stderr",
     "output_type": "stream",
     "text": [
      "\n",
      "Bad key \"text.kerning_factor\" on line 4 in\n",
      "C:\\Users\\myvio\\Anaconda3\\envs\\sps620env\\lib\\site-packages\\matplotlib\\mpl-data\\stylelib\\_classic_test_patch.mplstyle.\n",
      "You probably need to get an updated matplotlibrc file from\n",
      "http://github.com/matplotlib/matplotlib/blob/master/matplotlibrc.template\n",
      "or from the matplotlib source distribution\n"
     ]
    }
   ],
   "source": [
    "import networkx as nx\n",
    "import pandas as pd\n",
    "import numpy as np\n",
    "import matplotlib.pyplot as plt\n",
    "from itertools import count\n",
    "import warnings\n",
    "\n",
    "warnings.filterwarnings('ignore')\n",
    "\n",
    "df2011 = pd.read_csv('https://raw.githubusercontent.com/myvioletrose/data620_team/master/assignment/week_4/high-school-social-network2012.txt',\n",
    "                 sep='\\t',\n",
    "                 header=None,\n",
    "                 names=['t', 'i', 'j','Ci','Cj'])\n",
    "\n",
    "df2012 = pd.read_csv('https://raw.githubusercontent.com/myvioletrose/data620_team/master/assignment/week_4/high-school-social-network2012.txt',\n",
    "                 sep='\\t',\n",
    "                 header=None,\n",
    "                 names=['t', 'i', 'j','Ci','Cj'])\n",
    "\n",
    "\n",
    "attributes2011 = pd.read_csv('http://www.sociopatterns.org/wp-content/uploads/2015/09/metadata_2011.txt',\n",
    "                  sep='\\t',\n",
    "                  header=None,\n",
    "                  names=['node', 'dept','gender'])\n",
    "\n",
    "attributes2012 = pd.read_csv('http://www.sociopatterns.org/wp-content/uploads/2015/09/metadata_2012.txt',\n",
    "                  sep='\\t',\n",
    "                  header=None,\n",
    "                  names=['node', 'dept','gender'])\n",
    "\n"
   ]
  },
  {
   "cell_type": "markdown",
   "metadata": {},
   "source": [
    "## Plan for Analysis"
   ]
  },
  {
   "cell_type": "markdown",
   "metadata": {},
   "source": [
    "For our analysis we will be using the networkx package along with the pyvis package to look at the different networks in a more dynamic way. I think we may also output the data and load it into gephi to perform different visualizations in that tool. We are very interested to look at the different types of social positions that are occupied within the social structure of a high school. For example we may find that there are students that don't have a very high degree centrality but do have a high betweeness centrality, meaning that these are people that only have a few friends but their friends are all from different social groups."
   ]
  },
  {
   "cell_type": "markdown",
   "metadata": {},
   "source": [
    "### Weighting of the Interactions"
   ]
  },
  {
   "cell_type": "markdown",
   "metadata": {},
   "source": [
    "Our plan is to look at the frequency of interactions between different students to come up with the weights of the edges. Another possibility is to use the timestamps that are present to come up with a weight that is not based on frequency but rather time spent talking to one another."
   ]
  },
  {
   "cell_type": "markdown",
   "metadata": {},
   "source": [
    "### Comparing Metrics Across Groups"
   ]
  },
  {
   "cell_type": "markdown",
   "metadata": {},
   "source": [
    "We can compare different metrics like degree centrality, closeness centrality and betweenness centrality within and between genders, as well as within and between different classes. One hypothetical outcome from comparing these different metrics across groups is that we would find out whether one gender is more socially connected than the other gender, or when we compare year to year we may find that whether one gender changes their social network more quickly. We may also find similar outcomes when comparing across different classes."
   ]
  },
  {
   "cell_type": "code",
   "execution_count": 3,
   "metadata": {
    "scrolled": true
   },
   "outputs": [
    {
     "data": {
      "text/html": [
       "<div>\n",
       "<style scoped>\n",
       "    .dataframe tbody tr th:only-of-type {\n",
       "        vertical-align: middle;\n",
       "    }\n",
       "\n",
       "    .dataframe tbody tr th {\n",
       "        vertical-align: top;\n",
       "    }\n",
       "\n",
       "    .dataframe thead th {\n",
       "        text-align: right;\n",
       "    }\n",
       "</style>\n",
       "<table border=\"1\" class=\"dataframe\">\n",
       "  <thead>\n",
       "    <tr style=\"text-align: right;\">\n",
       "      <th></th>\n",
       "      <th>t</th>\n",
       "      <th>i</th>\n",
       "      <th>j</th>\n",
       "      <th>Ci</th>\n",
       "      <th>Cj</th>\n",
       "    </tr>\n",
       "  </thead>\n",
       "  <tbody>\n",
       "    <tr>\n",
       "      <td>0</td>\n",
       "      <td>1353303380</td>\n",
       "      <td>1170</td>\n",
       "      <td>1644</td>\n",
       "      <td>MP*1</td>\n",
       "      <td>MP*1</td>\n",
       "    </tr>\n",
       "    <tr>\n",
       "      <td>1</td>\n",
       "      <td>1353303400</td>\n",
       "      <td>1170</td>\n",
       "      <td>1613</td>\n",
       "      <td>MP*1</td>\n",
       "      <td>MP*1</td>\n",
       "    </tr>\n",
       "    <tr>\n",
       "      <td>2</td>\n",
       "      <td>1353303640</td>\n",
       "      <td>1170</td>\n",
       "      <td>1644</td>\n",
       "      <td>MP*1</td>\n",
       "      <td>MP*1</td>\n",
       "    </tr>\n",
       "    <tr>\n",
       "      <td>3</td>\n",
       "      <td>1353303760</td>\n",
       "      <td>1181</td>\n",
       "      <td>1651</td>\n",
       "      <td>MP*1</td>\n",
       "      <td>MP*1</td>\n",
       "    </tr>\n",
       "    <tr>\n",
       "      <td>4</td>\n",
       "      <td>1353303840</td>\n",
       "      <td>1108</td>\n",
       "      <td>1190</td>\n",
       "      <td>MP*1</td>\n",
       "      <td>MP*1</td>\n",
       "    </tr>\n",
       "    <tr>\n",
       "      <td>...</td>\n",
       "      <td>...</td>\n",
       "      <td>...</td>\n",
       "      <td>...</td>\n",
       "      <td>...</td>\n",
       "      <td>...</td>\n",
       "    </tr>\n",
       "    <tr>\n",
       "      <td>45042</td>\n",
       "      <td>1354032580</td>\n",
       "      <td>880</td>\n",
       "      <td>887</td>\n",
       "      <td>PC*</td>\n",
       "      <td>PC*</td>\n",
       "    </tr>\n",
       "    <tr>\n",
       "      <td>45043</td>\n",
       "      <td>1354032580</td>\n",
       "      <td>854</td>\n",
       "      <td>869</td>\n",
       "      <td>PSI*</td>\n",
       "      <td>PSI*</td>\n",
       "    </tr>\n",
       "    <tr>\n",
       "      <td>45044</td>\n",
       "      <td>1354032600</td>\n",
       "      <td>880</td>\n",
       "      <td>887</td>\n",
       "      <td>PC*</td>\n",
       "      <td>PC*</td>\n",
       "    </tr>\n",
       "    <tr>\n",
       "      <td>45045</td>\n",
       "      <td>1354032760</td>\n",
       "      <td>620</td>\n",
       "      <td>669</td>\n",
       "      <td>MP*2</td>\n",
       "      <td>MP*2</td>\n",
       "    </tr>\n",
       "    <tr>\n",
       "      <td>45046</td>\n",
       "      <td>1354032880</td>\n",
       "      <td>669</td>\n",
       "      <td>677</td>\n",
       "      <td>MP*2</td>\n",
       "      <td>MP*2</td>\n",
       "    </tr>\n",
       "  </tbody>\n",
       "</table>\n",
       "<p>45047 rows × 5 columns</p>\n",
       "</div>"
      ],
      "text/plain": [
       "                t     i     j    Ci    Cj\n",
       "0      1353303380  1170  1644  MP*1  MP*1\n",
       "1      1353303400  1170  1613  MP*1  MP*1\n",
       "2      1353303640  1170  1644  MP*1  MP*1\n",
       "3      1353303760  1181  1651  MP*1  MP*1\n",
       "4      1353303840  1108  1190  MP*1  MP*1\n",
       "...           ...   ...   ...   ...   ...\n",
       "45042  1354032580   880   887   PC*   PC*\n",
       "45043  1354032580   854   869  PSI*  PSI*\n",
       "45044  1354032600   880   887   PC*   PC*\n",
       "45045  1354032760   620   669  MP*2  MP*2\n",
       "45046  1354032880   669   677  MP*2  MP*2\n",
       "\n",
       "[45047 rows x 5 columns]"
      ]
     },
     "execution_count": 3,
     "metadata": {},
     "output_type": "execute_result"
    }
   ],
   "source": [
    "df2011"
   ]
  },
  {
   "cell_type": "code",
   "execution_count": 4,
   "metadata": {},
   "outputs": [
    {
     "data": {
      "text/html": [
       "<div>\n",
       "<style scoped>\n",
       "    .dataframe tbody tr th:only-of-type {\n",
       "        vertical-align: middle;\n",
       "    }\n",
       "\n",
       "    .dataframe tbody tr th {\n",
       "        vertical-align: top;\n",
       "    }\n",
       "\n",
       "    .dataframe thead th {\n",
       "        text-align: right;\n",
       "    }\n",
       "</style>\n",
       "<table border=\"1\" class=\"dataframe\">\n",
       "  <thead>\n",
       "    <tr style=\"text-align: right;\">\n",
       "      <th></th>\n",
       "      <th>node</th>\n",
       "      <th>dept</th>\n",
       "      <th>gender</th>\n",
       "    </tr>\n",
       "  </thead>\n",
       "  <tbody>\n",
       "    <tr>\n",
       "      <td>0</td>\n",
       "      <td>28</td>\n",
       "      <td>PC</td>\n",
       "      <td>F</td>\n",
       "    </tr>\n",
       "    <tr>\n",
       "      <td>1</td>\n",
       "      <td>103</td>\n",
       "      <td>PC</td>\n",
       "      <td>F</td>\n",
       "    </tr>\n",
       "    <tr>\n",
       "      <td>2</td>\n",
       "      <td>34</td>\n",
       "      <td>PSI*</td>\n",
       "      <td>M</td>\n",
       "    </tr>\n",
       "    <tr>\n",
       "      <td>3</td>\n",
       "      <td>81</td>\n",
       "      <td>PC</td>\n",
       "      <td>M</td>\n",
       "    </tr>\n",
       "    <tr>\n",
       "      <td>4</td>\n",
       "      <td>56</td>\n",
       "      <td>PC</td>\n",
       "      <td>F</td>\n",
       "    </tr>\n",
       "    <tr>\n",
       "      <td>...</td>\n",
       "      <td>...</td>\n",
       "      <td>...</td>\n",
       "      <td>...</td>\n",
       "    </tr>\n",
       "    <tr>\n",
       "      <td>121</td>\n",
       "      <td>38</td>\n",
       "      <td>PSI*</td>\n",
       "      <td>F</td>\n",
       "    </tr>\n",
       "    <tr>\n",
       "      <td>122</td>\n",
       "      <td>78</td>\n",
       "      <td>PC*</td>\n",
       "      <td>M</td>\n",
       "    </tr>\n",
       "    <tr>\n",
       "      <td>123</td>\n",
       "      <td>42</td>\n",
       "      <td>PSI*</td>\n",
       "      <td>M</td>\n",
       "    </tr>\n",
       "    <tr>\n",
       "      <td>124</td>\n",
       "      <td>22</td>\n",
       "      <td>PSI*</td>\n",
       "      <td>M</td>\n",
       "    </tr>\n",
       "    <tr>\n",
       "      <td>125</td>\n",
       "      <td>123</td>\n",
       "      <td>teacher</td>\n",
       "      <td>M</td>\n",
       "    </tr>\n",
       "  </tbody>\n",
       "</table>\n",
       "<p>126 rows × 3 columns</p>\n",
       "</div>"
      ],
      "text/plain": [
       "     node     dept gender\n",
       "0      28       PC      F\n",
       "1     103       PC      F\n",
       "2      34     PSI*      M\n",
       "3      81       PC      M\n",
       "4      56       PC      F\n",
       "..    ...      ...    ...\n",
       "121    38     PSI*      F\n",
       "122    78      PC*      M\n",
       "123    42     PSI*      M\n",
       "124    22     PSI*      M\n",
       "125   123  teacher      M\n",
       "\n",
       "[126 rows x 3 columns]"
      ]
     },
     "execution_count": 4,
     "metadata": {},
     "output_type": "execute_result"
    }
   ],
   "source": [
    "attributes2011"
   ]
  }
 ],
 "metadata": {
  "kernelspec": {
   "display_name": "Python 3",
   "language": "python",
   "name": "python3"
  },
  "language_info": {
   "codemirror_mode": {
    "name": "ipython",
    "version": 3
   },
   "file_extension": ".py",
   "mimetype": "text/x-python",
   "name": "python",
   "nbconvert_exporter": "python",
   "pygments_lexer": "ipython3",
   "version": "3.7.9"
  }
 },
 "nbformat": 4,
 "nbformat_minor": 2
}
