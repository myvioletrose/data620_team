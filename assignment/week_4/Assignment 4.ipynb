{
 "cells": [
  {
   "cell_type": "markdown",
   "metadata": {},
   "source": [
    "## Assignment 4: Social Network Dataset to be Analyzed"
   ]
  },
  {
   "cell_type": "markdown",
   "metadata": {},
   "source": [
    "##### Jimmy Ng & Corey Arnouts"
   ]
  },
  {
   "cell_type": "markdown",
   "metadata": {},
   "source": [
    "http://www.sociopatterns.org/datasets/high-school-dynamic-contact-networks/"
   ]
  },
  {
   "cell_type": "markdown",
   "metadata": {},
   "source": [
    "# Overview"
   ]
  },
  {
   "cell_type": "markdown",
   "metadata": {},
   "source": [
    "For this network analysis we are going to be looking at the interactions between different students at a high school,\n",
    " this data also includes categorical data about what class the interactions occurred in and what the genders of the students are. There is also data for both 2011 and 2012 so we can see how the networks changed over time as well."
   ]
  },
  {
   "cell_type": "markdown",
   "metadata": {},
   "source": [
    "## Data that we will be using"
   ]
  },
  {
   "cell_type": "markdown",
   "metadata": {},
   "source": [
    "The data below is taken from the website sociopatterns.org these datasets look at the relationships present and the interactions between students at a high school. The dataset is loaded below. Before bringing in some of the text files, some manual data cleaning already occurred, e.g. there was extra parenthesis marks that were causing errors with the tab delimited format, so I had to use sublime text to remove all of these parenthesis. The attributes datasets are avaliable directly from the sociopatterns website."
   ]
  },
  {
   "cell_type": "code",
   "execution_count": 3,
   "metadata": {},
   "outputs": [],
   "source": [
    "import networkx as nx\n",
    "import pandas as pd\n",
    "import numpy as np\n",
    "import matplotlib.pyplot as plt\n",
    "from itertools import count\n",
    "import warnings\n",
    "\n",
    "warnings.filterwarnings('ignore')\n",
    "\n",
    "df2011 = pd.read_csv('https://raw.githubusercontent.com/myvioletrose/data620_team/master/assignment/week_4/high-school-social-network2012.txt',\n",
    "                 sep='\\t',\n",
    "                 header=None,\n",
    "                 names=['t', 'i', 'j','Ci','Cj'])\n",
    "\n",
    "df2012 = pd.read_csv('https://raw.githubusercontent.com/myvioletrose/data620_team/master/assignment/week_4/high-school-social-network2012.txt',\n",
    "                 sep='\\t',\n",
    "                 header=None,\n",
    "                 names=['t', 'i', 'j','Ci','Cj'])\n",
    "\n",
    "\n",
    "attributes2011 = pd.read_csv('http://www.sociopatterns.org/wp-content/uploads/2015/09/metadata_2011.txt',\n",
    "                  sep='\\t',\n",
    "                  header=None,\n",
    "                  names=['node', 'dept','gender'])\n",
    "\n",
    "attributes2012 = pd.read_csv('http://www.sociopatterns.org/wp-content/uploads/2015/09/metadata_2012.txt',\n",
    "                  sep='\\t',\n",
    "                  header=None,\n",
    "                  names=['node', 'dept','gender'])\n",
    "\n"
   ]
  },
  {
   "cell_type": "markdown",
   "metadata": {},
   "source": [
    "## Plan for Analysis"
   ]
  },
  {
   "cell_type": "markdown",
   "metadata": {},
   "source": [
    "For our analysis we will be using the networkx package along with the pyvis package to look at the different networks in a more dynamic way. I think we may also output the data and load it into gephi to perform different visualizations in that tool. We are very interested to look at the different types of social positions that are occupied within the social structure of a high school. For example we may find that there are students that don't have a very high degree centrality but do have a high betweeness centrality, meaning that these are people that only have a few friends but their friends are all from different social groups."
   ]
  },
  {
   "cell_type": "markdown",
   "metadata": {},
   "source": [
    "### Weighting of the Interactions"
   ]
  },
  {
   "cell_type": "markdown",
   "metadata": {},
   "source": [
    "Our plan is to look at the frequency of interactions between different students to come up with the weights of the edges. Another possibility is to use the timestamps that are present to come up with a weight that is not based on frequency but rather time spent talking to one another."
   ]
  },
  {
   "cell_type": "markdown",
   "metadata": {},
   "source": [
    "### Comparing Metrics Across Groups"
   ]
  },
  {
   "cell_type": "markdown",
   "metadata": {},
   "source": [
    "We can compare different metrics like degree centrality, closeness centrality and betweenness centrality within and between genders, as well as within and between different classes. One hypothetical outcome from comparing these different metrics across groups is that we would find out whether one gender is more socially connected than the other gender, or when we compare year to year we may find that whether one gender changes their social network more quickly. We may also find similar outcomes when comparing across different classes."
   ]
  },
  {
   "cell_type": "code",
   "execution_count": null,
   "metadata": {},
   "outputs": [],
   "source": []
  }
 ],
 "metadata": {
  "kernelspec": {
   "display_name": "Python 3",
   "language": "python",
   "name": "python3"
  },
  "language_info": {
   "codemirror_mode": {
    "name": "ipython",
    "version": 3
   },
   "file_extension": ".py",
   "mimetype": "text/x-python",
   "name": "python",
   "nbconvert_exporter": "python",
   "pygments_lexer": "ipython3",
   "version": "3.7.1"
  }
 },
 "nbformat": 4,
 "nbformat_minor": 2
}
